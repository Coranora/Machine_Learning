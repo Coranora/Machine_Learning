{
 "cells": [
  {
   "cell_type": "code",
   "execution_count": 429,
   "metadata": {},
   "outputs": [
    {
     "data": {
      "text/plain": [
       "(1143, 75)"
      ]
     },
     "execution_count": 429,
     "metadata": {},
     "output_type": "execute_result"
    }
   ],
   "source": [
    "import pandas as pd\n",
    "import numpy as np\n",
    "import sklearn.preprocessing as pr\n",
    "from sklearn.model_selection import cross_val_score\n",
    "import matplotlib.pyplot as plt\n",
    "data = pd.read_csv(\"train.csv\",encoding=\"latin-1\")\n",
    "data.shape"
   ]
  },
  {
   "cell_type": "code",
   "execution_count": 433,
   "metadata": {},
   "outputs": [
    {
     "data": {
      "text/html": [
       "<div>\n",
       "<style scoped>\n",
       "    .dataframe tbody tr th:only-of-type {\n",
       "        vertical-align: middle;\n",
       "    }\n",
       "\n",
       "    .dataframe tbody tr th {\n",
       "        vertical-align: top;\n",
       "    }\n",
       "\n",
       "    .dataframe thead th {\n",
       "        text-align: right;\n",
       "    }\n",
       "</style>\n",
       "<table border=\"1\" class=\"dataframe\">\n",
       "  <thead>\n",
       "    <tr style=\"text-align: right;\">\n",
       "      <th></th>\n",
       "      <th>surveyid</th>\n",
       "      <th>village</th>\n",
       "      <th>survey_date</th>\n",
       "      <th>femaleres</th>\n",
       "      <th>age</th>\n",
       "      <th>married</th>\n",
       "      <th>children</th>\n",
       "      <th>hhsize</th>\n",
       "      <th>edu</th>\n",
       "      <th>hh_children</th>\n",
       "      <th>...</th>\n",
       "      <th>given_mpesa</th>\n",
       "      <th>amount_given_mpesa</th>\n",
       "      <th>received_mpesa</th>\n",
       "      <th>amount_received_mpesa</th>\n",
       "      <th>net_mpesa</th>\n",
       "      <th>saved_mpesa</th>\n",
       "      <th>amount_saved_mpesa</th>\n",
       "      <th>early_survey</th>\n",
       "      <th>depressed</th>\n",
       "      <th>day_of_week</th>\n",
       "    </tr>\n",
       "  </thead>\n",
       "  <tbody>\n",
       "    <tr>\n",
       "      <th>0</th>\n",
       "      <td>926</td>\n",
       "      <td>91</td>\n",
       "      <td>23-Nov-61</td>\n",
       "      <td>1</td>\n",
       "      <td>28.0</td>\n",
       "      <td>1</td>\n",
       "      <td>4</td>\n",
       "      <td>6</td>\n",
       "      <td>10</td>\n",
       "      <td>0</td>\n",
       "      <td>...</td>\n",
       "      <td>0</td>\n",
       "      <td>0.0</td>\n",
       "      <td>0</td>\n",
       "      <td>0.000000</td>\n",
       "      <td>0.000000</td>\n",
       "      <td>1</td>\n",
       "      <td>0.000000</td>\n",
       "      <td>0</td>\n",
       "      <td>0</td>\n",
       "      <td>5</td>\n",
       "    </tr>\n",
       "    <tr>\n",
       "      <th>1</th>\n",
       "      <td>747</td>\n",
       "      <td>57</td>\n",
       "      <td>24-Oct-61</td>\n",
       "      <td>1</td>\n",
       "      <td>23.0</td>\n",
       "      <td>1</td>\n",
       "      <td>3</td>\n",
       "      <td>5</td>\n",
       "      <td>8</td>\n",
       "      <td>0</td>\n",
       "      <td>...</td>\n",
       "      <td>0</td>\n",
       "      <td>0.0</td>\n",
       "      <td>1</td>\n",
       "      <td>4.804611</td>\n",
       "      <td>4.804611</td>\n",
       "      <td>0</td>\n",
       "      <td>0.000000</td>\n",
       "      <td>0</td>\n",
       "      <td>1</td>\n",
       "      <td>3</td>\n",
       "    </tr>\n",
       "    <tr>\n",
       "      <th>2</th>\n",
       "      <td>1190</td>\n",
       "      <td>115</td>\n",
       "      <td>05-Oct-61</td>\n",
       "      <td>1</td>\n",
       "      <td>22.0</td>\n",
       "      <td>1</td>\n",
       "      <td>3</td>\n",
       "      <td>5</td>\n",
       "      <td>9</td>\n",
       "      <td>0</td>\n",
       "      <td>...</td>\n",
       "      <td>0</td>\n",
       "      <td>0.0</td>\n",
       "      <td>0</td>\n",
       "      <td>8.007685</td>\n",
       "      <td>8.007685</td>\n",
       "      <td>1</td>\n",
       "      <td>0.000000</td>\n",
       "      <td>0</td>\n",
       "      <td>0</td>\n",
       "      <td>5</td>\n",
       "    </tr>\n",
       "    <tr>\n",
       "      <th>3</th>\n",
       "      <td>1065</td>\n",
       "      <td>97</td>\n",
       "      <td>23-Sep-61</td>\n",
       "      <td>1</td>\n",
       "      <td>27.0</td>\n",
       "      <td>1</td>\n",
       "      <td>2</td>\n",
       "      <td>4</td>\n",
       "      <td>10</td>\n",
       "      <td>2</td>\n",
       "      <td>...</td>\n",
       "      <td>0</td>\n",
       "      <td>0.0</td>\n",
       "      <td>0</td>\n",
       "      <td>0.000000</td>\n",
       "      <td>0.000000</td>\n",
       "      <td>1</td>\n",
       "      <td>1.249199</td>\n",
       "      <td>0</td>\n",
       "      <td>0</td>\n",
       "      <td>0</td>\n",
       "    </tr>\n",
       "    <tr>\n",
       "      <th>4</th>\n",
       "      <td>806</td>\n",
       "      <td>42</td>\n",
       "      <td>12-Sep-61</td>\n",
       "      <td>0</td>\n",
       "      <td>59.0</td>\n",
       "      <td>0</td>\n",
       "      <td>4</td>\n",
       "      <td>6</td>\n",
       "      <td>10</td>\n",
       "      <td>4</td>\n",
       "      <td>...</td>\n",
       "      <td>0</td>\n",
       "      <td>0.0</td>\n",
       "      <td>0</td>\n",
       "      <td>0.000000</td>\n",
       "      <td>0.000000</td>\n",
       "      <td>0</td>\n",
       "      <td>0.000000</td>\n",
       "      <td>0</td>\n",
       "      <td>0</td>\n",
       "      <td>3</td>\n",
       "    </tr>\n",
       "  </tbody>\n",
       "</table>\n",
       "<p>5 rows × 75 columns</p>\n",
       "</div>"
      ],
      "text/plain": [
       "   surveyid  village survey_date  femaleres   age  married  children  hhsize  \\\n",
       "0       926       91   23-Nov-61          1  28.0        1         4       6   \n",
       "1       747       57   24-Oct-61          1  23.0        1         3       5   \n",
       "2      1190      115   05-Oct-61          1  22.0        1         3       5   \n",
       "3      1065       97   23-Sep-61          1  27.0        1         2       4   \n",
       "4       806       42   12-Sep-61          0  59.0        0         4       6   \n",
       "\n",
       "   edu  hh_children  ...  given_mpesa  amount_given_mpesa  received_mpesa  \\\n",
       "0   10            0  ...            0                 0.0               0   \n",
       "1    8            0  ...            0                 0.0               1   \n",
       "2    9            0  ...            0                 0.0               0   \n",
       "3   10            2  ...            0                 0.0               0   \n",
       "4   10            4  ...            0                 0.0               0   \n",
       "\n",
       "   amount_received_mpesa  net_mpesa  saved_mpesa  amount_saved_mpesa  \\\n",
       "0               0.000000   0.000000            1            0.000000   \n",
       "1               4.804611   4.804611            0            0.000000   \n",
       "2               8.007685   8.007685            1            0.000000   \n",
       "3               0.000000   0.000000            1            1.249199   \n",
       "4               0.000000   0.000000            0            0.000000   \n",
       "\n",
       "   early_survey  depressed  day_of_week  \n",
       "0             0          0            5  \n",
       "1             0          1            3  \n",
       "2             0          0            5  \n",
       "3             0          0            0  \n",
       "4             0          0            3  \n",
       "\n",
       "[5 rows x 75 columns]"
      ]
     },
     "execution_count": 433,
     "metadata": {},
     "output_type": "execute_result"
    }
   ],
   "source": [
    "data.head()"
   ]
  },
  {
   "cell_type": "markdown",
   "metadata": {},
   "source": [
    "# Data Prepocessing"
   ]
  },
  {
   "cell_type": "markdown",
   "metadata": {},
   "source": [
    "### Plot Missing Data Percentages"
   ]
  },
  {
   "cell_type": "code",
   "execution_count": 391,
   "metadata": {},
   "outputs": [
    {
     "data": {
      "image/png": "[encoded data removed]",
      "text/plain": [
       "<Figure size 1296x720 with 1 Axes>"
      ]
     },
     "metadata": {
      "needs_background": "light"
     },
     "output_type": "display_data"
    }
   ],
   "source": [
    "labels=[]\n",
    "values=[]\n",
    "for column in data.columns:\n",
    "  if (data[column].isnull().sum()) > 0:\n",
    "    labels.append(column)\n",
    "    values.append(100*(data[column].isnull().sum()/len(data)))\n",
    "data_missing = pd.DataFrame(list(zip(labels,values)), columns = ['labels','values'])\n",
    "data_missing = data_missing.sort_values(by='values', ascending = True)\n",
    "data_missing.plot(x='labels', y='values',kind='barh',xticks=np.arange(0,100,10), grid=True, figsize=(18,10),title=\"Percentage of Missing Values\")\n",
    "plt.show()\n",
    "#print(data_missing)"
   ]
  },
  {
   "cell_type": "markdown",
   "metadata": {},
   "source": [
    "### Data Cleaning"
   ]
  },
  {
   "cell_type": "code",
   "execution_count": 392,
   "metadata": {},
   "outputs": [],
   "source": [
    "def data_cleaning(ratio,drop_date):\n",
    "    global data\n",
    "    #Drop Columns with NaN ratio is greater than 'ratio'\n",
    "    for i in data.columns:\n",
    "        if (100*(data[i].isnull().sum()/len(data))>ratio):\n",
    "            print(i,' ',100*(data[i].isnull().sum()/len(data)))\n",
    "            del data[i]        \n",
    "    #Drop Columns with unnecessary info\n",
    "    del data['surveyid']\n",
    "    if (drop_date=='y'):\n",
    "        del data['survey_date']\n",
    "    else:\n",
    "        from sklearn.preprocessing import LabelEncoder\n",
    "        encoder = LabelEncoder()\n",
    "        encoder.fit(data['survey_date'])\n",
    "        data['survey_date'] = encoder.transform(data['survey_date'])\n",
    "    #Round age values to nearest integer\n",
    "    data['age']=data['age'].round()\n",
    "    data.shape"
   ]
  },
  {
   "cell_type": "code",
   "execution_count": 393,
   "metadata": {},
   "outputs": [
    {
     "name": "stdout",
     "output_type": "stream",
     "text": [
      "med_expenses_hh_ep   60.629921259842526\n",
      "med_expenses_sp_ep   76.8153980752406\n",
      "med_expenses_child_ep   52.493438320209975\n",
      "med_u5_deaths   94.83814523184601\n",
      "ed_work_act_pc   49.95625546806649\n"
     ]
    }
   ],
   "source": [
    "data_cleaning(ratio=49.0,drop_date='n')"
   ]
  },
  {
   "cell_type": "markdown",
   "metadata": {},
   "source": [
    "### Filling NaN"
   ]
  },
  {
   "cell_type": "code",
   "execution_count": 396,
   "metadata": {},
   "outputs": [],
   "source": [
    "def Fill_NaN(estimator):\n",
    "    global data\n",
    "    if (estimator=='mean'):    \n",
    "        # Fill with Mean\n",
    "        data=data.fillna(data.mean())\n",
    "    if (estimator=='regression'):\n",
    "        # Fill with Beyesian Ridge Regression\n",
    "        from sklearn.experimental import enable_iterative_imputer  \n",
    "        from sklearn.impute import IterativeImputer\n",
    "        imputer_estimator = IterativeImputer(random_state=0)\n",
    "        imputer_estimator.fit(data)\n",
    "        data_values=imputer_estimator.transform(data)\n",
    "        data=pd.DataFrame(data_values, columns = data.columns)"
   ]
  },
  {
   "cell_type": "code",
   "execution_count": 397,
   "metadata": {},
   "outputs": [
    {
     "data": {
      "text/plain": [
       "(1143, 69)"
      ]
     },
     "execution_count": 397,
     "metadata": {},
     "output_type": "execute_result"
    }
   ],
   "source": [
    "Fill_NaN('regression');data.shape"
   ]
  },
  {
   "cell_type": "markdown",
   "metadata": {},
   "source": [
    "### Divide data to X and Y"
   ]
  },
  {
   "cell_type": "code",
   "execution_count": 398,
   "metadata": {},
   "outputs": [],
   "source": [
    "X = data.drop([\"depressed\"], axis=1)\n",
    "Y=data.depressed"
   ]
  },
  {
   "cell_type": "markdown",
   "metadata": {},
   "source": [
    "# Split The Data to Train and Test Set\n"
   ]
  },
  {
   "cell_type": "code",
   "execution_count": 422,
   "metadata": {},
   "outputs": [
    {
     "name": "stdout",
     "output_type": "stream",
     "text": [
      "Length of X_train 857, X_test: 286, Y_train: 857, Y_test: 286\n"
     ]
    }
   ],
   "source": [
    "# Split Train and Test\n",
    "from sklearn.model_selection import train_test_split\n",
    "X_train, X_test, Y_train, Y_test = train_test_split(X, Y, test_size=0.25)\n",
    "print(\"Length of X_train %d, X_test: %d, Y_train: %d, Y_test: %d\" %(len(X_train), len(X_test), len(Y_train), len(Y_test)))"
   ]
  },
  {
   "cell_type": "markdown",
   "metadata": {},
   "source": [
    "# Random Forest Classifier"
   ]
  },
  {
   "cell_type": "markdown",
   "metadata": {},
   "source": [
    "### 1. Random Search Training\n"
   ]
  },
  {
   "cell_type": "code",
   "execution_count": 400,
   "metadata": {},
   "outputs": [
    {
     "name": "stdout",
     "output_type": "stream",
     "text": [
      "Parameters currently in use:\n",
      "\n",
      "{'bootstrap': True,\n",
      " 'class_weight': None,\n",
      " 'criterion': 'gini',\n",
      " 'max_depth': None,\n",
      " 'max_features': 'auto',\n",
      " 'max_leaf_nodes': None,\n",
      " 'min_impurity_decrease': 0.0,\n",
      " 'min_impurity_split': None,\n",
      " 'min_samples_leaf': 1,\n",
      " 'min_samples_split': 2,\n",
      " 'min_weight_fraction_leaf': 0.0,\n",
      " 'n_estimators': 'warn',\n",
      " 'n_jobs': None,\n",
      " 'oob_score': False,\n",
      " 'random_state': 42,\n",
      " 'verbose': 0,\n",
      " 'warm_start': False}\n"
     ]
    }
   ],
   "source": [
    "from sklearn.ensemble import RandomForestClassifier\n",
    "RFC = RandomForestClassifier(random_state = 42)\n",
    "from pprint import pprint\n",
    "# Look at parameters used by our current forest\n",
    "print('Parameters currently in use:\\n')\n",
    "pprint(RFC.get_params())"
   ]
  },
  {
   "cell_type": "code",
   "execution_count": 220,
   "metadata": {
    "scrolled": true
   },
   "outputs": [
    {
     "name": "stdout",
     "output_type": "stream",
     "text": [
      "Fitting 4 folds for each of 70 candidates, totalling 280 fits\n"
     ]
    },
    {
     "name": "stderr",
     "output_type": "stream",
     "text": [
      "[Parallel(n_jobs=-1)]: Using backend LokyBackend with 4 concurrent workers.\n",
      "[Parallel(n_jobs=-1)]: Done  33 tasks      | elapsed:    5.4s\n",
      "[Parallel(n_jobs=-1)]: Done 154 tasks      | elapsed:   16.8s\n",
      "[Parallel(n_jobs=-1)]: Done 280 out of 280 | elapsed:   40.7s finished\n"
     ]
    },
    {
     "name": "stdout",
     "output_type": "stream",
     "text": [
      "{'n_estimators': 52}\n",
      "Fitting 4 folds for each of 11 candidates, totalling 44 fits\n"
     ]
    },
    {
     "name": "stderr",
     "output_type": "stream",
     "text": [
      "[Parallel(n_jobs=-1)]: Using backend LokyBackend with 4 concurrent workers.\n",
      "[Parallel(n_jobs=-1)]: Done  33 tasks      | elapsed:   54.4s\n",
      "[Parallel(n_jobs=-1)]: Done  44 out of  44 | elapsed:  1.1min finished\n"
     ]
    },
    {
     "name": "stdout",
     "output_type": "stream",
     "text": [
      "{'max_depth': 10}\n",
      "Fitting 4 folds for each of 5 candidates, totalling 20 fits\n"
     ]
    },
    {
     "name": "stderr",
     "output_type": "stream",
     "text": [
      "[Parallel(n_jobs=-1)]: Using backend LokyBackend with 4 concurrent workers.\n",
      "[Parallel(n_jobs=-1)]: Done  20 out of  20 | elapsed:   31.2s finished\n"
     ]
    },
    {
     "name": "stdout",
     "output_type": "stream",
     "text": [
      "{'min_samples_split': 4}\n"
     ]
    }
   ],
   "source": [
    "#from sklearn.model_selection import RandomizedSearchCV\n",
    "from sklearn.model_selection import GridSearchCV\n",
    "\n",
    "n_estimators = [int(x) for x in np.linspace(start = 10, stop = 150, num = 70)]\n",
    "max_features = ['auto']\n",
    "max_depth = [int(x) for x in np.linspace(10, 100, num = 10)]\n",
    "max_depth.append(None)\n",
    "min_samples_split = [2, 4, 6, 8, 10]\n",
    "min_samples_leaf = [1,2,4,6,8,10]\n",
    "bootstrap = [True, False]\n",
    "#random_grid = {'n_estimators': n_estimators,\n",
    "#               'max_features': max_features,\n",
    " #              'max_depth': max_depth,\n",
    "  #             'min_samples_split': min_samples_split,\n",
    "   #            'min_samples_leaf': min_samples_leaf,\n",
    "    #           'bootstrap': bootstrap}\n",
    "random_grid = {'n_estimators': n_estimators}\n",
    "\n",
    "rf_random = GridSearchCV(estimator = RFC, param_grid = random_grid, cv = 4, verbose=2, n_jobs = -1)\n",
    "#rf_random = RandomizedSearchCV(estimator = RFC, param_distributions = random_grid, n_iter = 100, cv = 3, verbose=2, random_state=42, n_jobs = -1)\n",
    "rf_random.fit(X,Y)\n",
    "print(rf_random.best_params_)\n",
    "\n",
    "random_grid = {'max_depth': max_depth}\n",
    "rf_random = GridSearchCV(estimator = RFC, param_grid = random_grid, cv = 4, verbose=2, n_jobs = -1)\n",
    "rf_random.fit(X,Y)\n",
    "print(rf_random.best_params_)\n",
    "\n",
    "random_grid = {'min_samples_split': min_samples_split}\n",
    "rf_random = GridSearchCV(estimator = RFC, param_grid = random_grid, cv = 4, verbose=2, n_jobs = -1)\n",
    "rf_random.fit(X,Y)\n",
    "print(rf_random.best_params_)\n"
   ]
  },
  {
   "cell_type": "code",
   "execution_count": 228,
   "metadata": {},
   "outputs": [
    {
     "name": "stdout",
     "output_type": "stream",
     "text": [
      "Fitting 4 folds for each of 5 candidates, totalling 20 fits\n"
     ]
    },
    {
     "name": "stderr",
     "output_type": "stream",
     "text": [
      "[Parallel(n_jobs=-1)]: Using backend LokyBackend with 4 concurrent workers.\n"
     ]
    },
    {
     "name": "stdout",
     "output_type": "stream",
     "text": [
      "{'min_samples_leaf': 6}\n"
     ]
    },
    {
     "name": "stderr",
     "output_type": "stream",
     "text": [
      "[Parallel(n_jobs=-1)]: Done  20 out of  20 | elapsed:    1.6s finished\n"
     ]
    }
   ],
   "source": []
  },
  {
   "cell_type": "markdown",
   "metadata": {},
   "source": [
    "### 2. Fit Without Folding"
   ]
  },
  {
   "cell_type": "code",
   "execution_count": 406,
   "metadata": {},
   "outputs": [
    {
     "name": "stdout",
     "output_type": "stream",
     "text": [
      "Accuracy:  0.8041958041958042\n"
     ]
    }
   ],
   "source": [
    "from sklearn.ensemble import RandomForestClassifier\n",
    "RFC=RandomForestClassifier(random_state=0,n_estimators= 52, min_samples_split= 4,min_samples_leaf=6,max_depth= 10)\n",
    "model=RFC.fit(X_train, Y_train)\n",
    "print('Accuracy: ',model.score(X_test, Y_test))\n"
   ]
  },
  {
   "cell_type": "markdown",
   "metadata": {},
   "source": [
    "### 3. Fit with Kfold"
   ]
  },
  {
   "cell_type": "code",
   "execution_count": 407,
   "metadata": {},
   "outputs": [
    {
     "name": "stdout",
     "output_type": "stream",
     "text": [
      "Accucary:  [0.8041958041958042, 0.8251748251748252, 0.8286713286713286, 0.856140350877193]\n",
      "Mean Accuracy:  0.8285455772297877\n"
     ]
    }
   ],
   "source": [
    "# KFold RandomForestClassifier\n",
    "from sklearn.ensemble import RandomForestClassifier\n",
    "from sklearn.model_selection import KFold\n",
    "RFC=RandomForestClassifier(random_state=0,n_estimators= 52, min_samples_split= 4,min_samples_leaf=6,max_depth= 10)\n",
    "kf=KFold(n_splits=4)\n",
    "scores=[]\n",
    "for train, test in kf.split(X,Y):\n",
    "        model=RFC.fit(X.values[train],Y.values[train])\n",
    "        score=model.score(X.values[test],Y.values[test])\n",
    "        #print(score)\n",
    "        scores.append(score)\n",
    "print('Accucary: ',scores)\n",
    "print('Mean Accuracy: ', np.mean(scores))"
   ]
  },
  {
   "cell_type": "markdown",
   "metadata": {},
   "source": [
    "# Extra Trees Classifier"
   ]
  },
  {
   "cell_type": "code",
   "execution_count": 408,
   "metadata": {},
   "outputs": [
    {
     "name": "stdout",
     "output_type": "stream",
     "text": [
      "Accuracy:  [0.8146853146853147, 0.8251748251748252, 0.8286713286713286, 0.856140350877193]\n",
      "Mean Accuracy:  0.8311679548521654\n"
     ]
    }
   ],
   "source": [
    "from sklearn.ensemble import ExtraTreesClassifier\n",
    "ETC = ExtraTreesClassifier(random_state=0,n_estimators= 52, min_samples_split= 4,min_samples_leaf=6,max_depth= 10)\n",
    "kf=KFold(n_splits=4)\n",
    "scores=[]\n",
    "for train, test in kf.split(X,Y):\n",
    "        model=ETC.fit(X.values[train],Y.values[train])\n",
    "        score=model.score(X.values[test],Y.values[test])\n",
    "        #print(score)\n",
    "        scores.append(score)\n",
    "print('Accuracy: ', scores)\n",
    "print('Mean Accuracy: ', np.mean(scores))"
   ]
  },
  {
   "cell_type": "markdown",
   "metadata": {},
   "source": [
    "# Kernel SVM (Support Vector Machine)"
   ]
  },
  {
   "cell_type": "markdown",
   "metadata": {},
   "source": [
    "### 1. Without folding"
   ]
  },
  {
   "cell_type": "code",
   "execution_count": 410,
   "metadata": {},
   "outputs": [
    {
     "data": {
      "text/plain": [
       "0.8041958041958042"
      ]
     },
     "execution_count": 410,
     "metadata": {},
     "output_type": "execute_result"
    }
   ],
   "source": [
    "from sklearn.svm import SVC\n",
    "SVC_rgb=SVC(max_iter=2000, gamma='auto')\n",
    "model=SVC_rgb.fit(X_train, Y_train)\n",
    "model.score(X_test, Y_test)"
   ]
  },
  {
   "cell_type": "markdown",
   "metadata": {},
   "source": [
    "### 2. With kfold"
   ]
  },
  {
   "cell_type": "markdown",
   "metadata": {},
   "source": [
    "### 2.1. Rbf"
   ]
  },
  {
   "cell_type": "code",
   "execution_count": 411,
   "metadata": {},
   "outputs": [
    {
     "name": "stdout",
     "output_type": "stream",
     "text": [
      "Accuracy:  [0.8146853146853147, 0.8251748251748252, 0.8286713286713286, 0.856140350877193]\n",
      "Mean Accuracy:  0.8311679548521654\n"
     ]
    }
   ],
   "source": [
    "from sklearn.svm import SVC\n",
    "SVC_rbf=SVC(max_iter=3000, gamma='auto')\n",
    "kf=KFold(n_splits=4)\n",
    "scores=[]\n",
    "for train, test in kf.split(X,Y):\n",
    "        model=SVC_rbf.fit(X.values[train],Y.values[train])\n",
    "        score=model.score(X.values[test],Y.values[test])\n",
    "        #print(score)\n",
    "        scores.append(score)\n",
    "print('Accuracy: ',scores)\n",
    "print('Mean Accuracy: ', np.mean(scores))"
   ]
  },
  {
   "cell_type": "markdown",
   "metadata": {},
   "source": [
    "### 2.2. Sigmoid"
   ]
  },
  {
   "cell_type": "code",
   "execution_count": 412,
   "metadata": {},
   "outputs": [
    {
     "name": "stdout",
     "output_type": "stream",
     "text": [
      "Accuracy:  [0.8146853146853147, 0.8251748251748252, 0.8286713286713286, 0.8526315789473684]\n",
      "Mean Accuracy:  0.8302907618697093\n"
     ]
    }
   ],
   "source": [
    "from sklearn.svm import SVC\n",
    "SVC_sig=SVC(kernel='sigmoid',max_iter=3000, gamma='auto')\n",
    "kf=KFold(n_splits=4)\n",
    "scores=[]\n",
    "for train, test in kf.split(X,Y):\n",
    "        model=SVC_sig.fit(X.values[train],Y.values[train])\n",
    "        score=model.score(X.values[test],Y.values[test])\n",
    "        #print(score)\n",
    "        scores.append(score)\n",
    "print('Accuracy: ',scores)\n",
    "print('Mean Accuracy: ', np.mean(scores))"
   ]
  },
  {
   "cell_type": "markdown",
   "metadata": {},
   "source": [
    "# K Neighbors Classifier"
   ]
  },
  {
   "cell_type": "code",
   "execution_count": 413,
   "metadata": {},
   "outputs": [
    {
     "name": "stdout",
     "output_type": "stream",
     "text": [
      "Accuracy:  [0.8146853146853147, 0.8251748251748252, 0.8286713286713286, 0.856140350877193]\n",
      "Mean Accuracy:  0.8311679548521654\n"
     ]
    }
   ],
   "source": [
    "from sklearn.neighbors import KNeighborsClassifier\n",
    "KNN = KNeighborsClassifier(n_neighbors=17,weights = 'distance',algorithm='auto') # after 17 no change\n",
    "kf=KFold(n_splits=4)\n",
    "scores=[]\n",
    "for train, test in kf.split(X,Y):\n",
    "        model=KNN.fit(X.values[train],Y.values[train])\n",
    "        score=model.score(X.values[test],Y.values[test])\n",
    "        scores.append(score)\n",
    "print('Accuracy: ',scores)\n",
    "print('Mean Accuracy: ', np.mean(scores))"
   ]
  },
  {
   "cell_type": "markdown",
   "metadata": {},
   "source": [
    "# Voting Classifier"
   ]
  },
  {
   "cell_type": "code",
   "execution_count": 414,
   "metadata": {},
   "outputs": [],
   "source": [
    "from sklearn.ensemble import VotingClassifier"
   ]
  },
  {
   "cell_type": "code",
   "execution_count": 415,
   "metadata": {},
   "outputs": [],
   "source": [
    "SVC_rbf=SVC(max_iter=3000, gamma='auto')\n",
    "RFC=RandomForestClassifier(random_state=0,n_estimators= 52, min_samples_split= 4,min_samples_leaf=6,max_depth= 10)\n",
    "KNN = KNeighborsClassifier(n_neighbors=17,weights = 'distance',algorithm='auto') # after 17 no change"
   ]
  },
  {
   "cell_type": "code",
   "execution_count": 416,
   "metadata": {},
   "outputs": [
    {
     "name": "stdout",
     "output_type": "stream",
     "text": [
      "Accuracy:  [0.8146853146853147, 0.8251748251748252, 0.8286713286713286, 0.856140350877193]\n",
      "Mean Accuracy:  0.8311679548521654\n"
     ]
    }
   ],
   "source": [
    "voting_model_1 = VotingClassifier(estimators=[('SVC_rgb', SVC_rgb),('RFC', RFC)], voting='hard')\n",
    "kf=KFold(n_splits=4)\n",
    "scores=[]\n",
    "for train, test in kf.split(X,Y):\n",
    "        model=voting_model_1.fit(X.values[train],Y.values[train])\n",
    "        score=model.score(X.values[test],Y.values[test])\n",
    "        scores.append(score)\n",
    "print('Accuracy: ',scores)\n",
    "print('Mean Accuracy: ', np.mean(scores))\n",
    "#model = voting_model_1.fit(X_train, Y_train)\n",
    "#model.score(X_test, Y_test)"
   ]
  },
  {
   "cell_type": "code",
   "execution_count": 374,
   "metadata": {},
   "outputs": [
    {
     "name": "stdout",
     "output_type": "stream",
     "text": [
      "Accuracy:  [0.8146853146853147, 0.8251748251748252, 0.8286713286713286, 0.856140350877193]\n",
      "Mean Accuracy:  0.8311679548521654\n"
     ]
    }
   ],
   "source": [
    "from sklearn.ensemble import VotingClassifier\n",
    "voting_model_2 = VotingClassifier(estimators=[('SVC_rgb', SVC_rgb),('RFC', RFC),('KNN',KNN)], voting='hard')\n",
    "kf=KFold(n_splits=4)\n",
    "scores=[]\n",
    "for train, test in kf.split(X,Y):\n",
    "        model=voting_model_2.fit(X.values[train],Y.values[train])\n",
    "        score=model.score(X.values[test],Y.values[test])\n",
    "        scores.append(score)\n",
    "print('Accuracy: ',scores)\n",
    "print('Mean Accuracy: ', np.mean(scores))\n",
    "#model = voting_model_2.fit(X_train, Y_train)\n",
    "#model.score(X_test, Y_test)"
   ]
  },
  {
   "cell_type": "markdown",
   "metadata": {},
   "source": [
    "# GAM"
   ]
  },
  {
   "cell_type": "code",
   "execution_count": 372,
   "metadata": {},
   "outputs": [
    {
     "name": "stdout",
     "output_type": "stream",
     "text": [
      "[0.8006993006993007, 0.8181818181818182, 0.8181818181818182, 0.8491228070175438]\n",
      "Mean Score:  0.8215464360201202\n"
     ]
    }
   ],
   "source": [
    "# KFold GAM\n",
    "from sklearn.ensemble import GradientBoostingClassifier\n",
    "GAM = GradientBoostingClassifier()\n",
    "kf=KFold(n_splits=4)\n",
    "scores=[]\n",
    "for train, test in kf.split(X,Y):\n",
    "        model=GAM.fit(X.values[train],Y.values[train])\n",
    "        score=model.score(X.values[test],Y.values[test])\n",
    "        #print(score)\n",
    "        scores.append(score)\n",
    "print(scores)\n",
    "print('Mean Score: ', np.mean(scores))"
   ]
  },
  {
   "cell_type": "markdown",
   "metadata": {},
   "source": [
    "# Neural Networks"
   ]
  },
  {
   "cell_type": "code",
   "execution_count": 418,
   "metadata": {},
   "outputs": [],
   "source": [
    "from keras.models import Sequential\n",
    "from keras.layers import Dense\n",
    "from keras.preprocessing import sequence"
   ]
  },
  {
   "cell_type": "code",
   "execution_count": 423,
   "metadata": {
    "scrolled": false
   },
   "outputs": [
    {
     "name": "stdout",
     "output_type": "stream",
     "text": [
      "Epoch 1/100\n",
      "857/857 [==============================] - 1s 2ms/step - loss: 3.1973 - accuracy: 0.7200\n",
      "Epoch 2/100\n",
      "857/857 [==============================] - 0s 411us/step - loss: 1.4388 - accuracy: 0.7351\n",
      "Epoch 3/100\n",
      "857/857 [==============================] - 0s 414us/step - loss: 0.9639 - accuracy: 0.7783\n",
      "Epoch 4/100\n",
      "857/857 [==============================] - 0s 448us/step - loss: 1.0506 - accuracy: 0.7631\n",
      "Epoch 5/100\n",
      "857/857 [==============================] - 0s 426us/step - loss: 0.9024 - accuracy: 0.7725\n",
      "Epoch 6/100\n",
      "857/857 [==============================] - 0s 416us/step - loss: 0.7186 - accuracy: 0.8121\n",
      "Epoch 7/100\n",
      "857/857 [==============================] - 0s 414us/step - loss: 0.6386 - accuracy: 0.8098\n",
      "Epoch 8/100\n",
      "857/857 [==============================] - 0s 433us/step - loss: 0.5468 - accuracy: 0.8296\n",
      "Epoch 9/100\n",
      "857/857 [==============================] - 0s 415us/step - loss: 0.6257 - accuracy: 0.7876\n",
      "Epoch 10/100\n",
      "857/857 [==============================] - 0s 420us/step - loss: 0.6065 - accuracy: 0.8226\n",
      "Epoch 11/100\n",
      "857/857 [==============================] - 0s 400us/step - loss: 0.5070 - accuracy: 0.8261\n",
      "Epoch 12/100\n",
      "857/857 [==============================] - 0s 413us/step - loss: 0.4374 - accuracy: 0.8460\n",
      "Epoch 13/100\n",
      "857/857 [==============================] - 0s 419us/step - loss: 0.4676 - accuracy: 0.8413\n",
      "Epoch 14/100\n",
      "857/857 [==============================] - 0s 412us/step - loss: 0.5110 - accuracy: 0.8273\n",
      "Epoch 15/100\n",
      "857/857 [==============================] - 0s 415us/step - loss: 0.5180 - accuracy: 0.8320\n",
      "Epoch 16/100\n",
      "857/857 [==============================] - 0s 410us/step - loss: 0.4899 - accuracy: 0.8378\n",
      "Epoch 17/100\n",
      "857/857 [==============================] - 0s 405us/step - loss: 0.4754 - accuracy: 0.8413\n",
      "Epoch 18/100\n",
      "857/857 [==============================] - 0s 415us/step - loss: 0.5032 - accuracy: 0.8506\n",
      "Epoch 19/100\n",
      "857/857 [==============================] - 0s 417us/step - loss: 0.3501 - accuracy: 0.8798\n",
      "Epoch 20/100\n",
      "857/857 [==============================] - 0s 406us/step - loss: 0.4424 - accuracy: 0.8623\n",
      "Epoch 21/100\n",
      "857/857 [==============================] - 0s 413us/step - loss: 0.3895 - accuracy: 0.8588\n",
      "Epoch 22/100\n",
      "857/857 [==============================] - 0s 422us/step - loss: 0.5048 - accuracy: 0.8670\n",
      "Epoch 23/100\n",
      "857/857 [==============================] - 0s 425us/step - loss: 0.4429 - accuracy: 0.8705\n",
      "Epoch 24/100\n",
      "857/857 [==============================] - 0s 422us/step - loss: 0.5061 - accuracy: 0.8506\n",
      "Epoch 25/100\n",
      "857/857 [==============================] - 0s 405us/step - loss: 0.3453 - accuracy: 0.8751\n",
      "Epoch 26/100\n",
      "857/857 [==============================] - 0s 416us/step - loss: 0.3074 - accuracy: 0.8798\n",
      "Epoch 27/100\n",
      "857/857 [==============================] - 0s 414us/step - loss: 0.3244 - accuracy: 0.8903\n",
      "Epoch 28/100\n",
      "857/857 [==============================] - 0s 422us/step - loss: 0.3085 - accuracy: 0.8845\n",
      "Epoch 29/100\n",
      "857/857 [==============================] - 0s 417us/step - loss: 0.3107 - accuracy: 0.8985\n",
      "Epoch 30/100\n",
      "857/857 [==============================] - 0s 458us/step - loss: 0.2972 - accuracy: 0.9020\n",
      "Epoch 31/100\n",
      "857/857 [==============================] - 0s 439us/step - loss: 0.4374 - accuracy: 0.8693\n",
      "Epoch 32/100\n",
      "857/857 [==============================] - 0s 421us/step - loss: 0.2851 - accuracy: 0.9008\n",
      "Epoch 33/100\n",
      "857/857 [==============================] - 0s 409us/step - loss: 0.2843 - accuracy: 0.8926\n",
      "Epoch 34/100\n",
      "857/857 [==============================] - 0s 407us/step - loss: 0.3397 - accuracy: 0.8938\n",
      "Epoch 35/100\n",
      "857/857 [==============================] - 0s 421us/step - loss: 0.2601 - accuracy: 0.9043\n",
      "Epoch 36/100\n",
      "857/857 [==============================] - 0s 418us/step - loss: 0.2444 - accuracy: 0.9090\n",
      "Epoch 37/100\n",
      "857/857 [==============================] - 0s 464us/step - loss: 0.2986 - accuracy: 0.9008\n",
      "Epoch 38/100\n",
      "857/857 [==============================] - 0s 438us/step - loss: 0.2375 - accuracy: 0.9160\n",
      "Epoch 39/100\n",
      "857/857 [==============================] - 0s 420us/step - loss: 0.2565 - accuracy: 0.8973\n",
      "Epoch 40/100\n",
      "857/857 [==============================] - 0s 416us/step - loss: 0.4229 - accuracy: 0.8798\n",
      "Epoch 41/100\n",
      "857/857 [==============================] - 0s 440us/step - loss: 0.3360 - accuracy: 0.8880\n",
      "Epoch 42/100\n",
      "857/857 [==============================] - 0s 414us/step - loss: 0.2677 - accuracy: 0.8950\n",
      "Epoch 43/100\n",
      "857/857 [==============================] - 0s 422us/step - loss: 0.2536 - accuracy: 0.8996\n",
      "Epoch 44/100\n",
      "857/857 [==============================] - 0s 426us/step - loss: 0.3200 - accuracy: 0.8915\n",
      "Epoch 45/100\n",
      "857/857 [==============================] - 0s 421us/step - loss: 0.2616 - accuracy: 0.9055\n",
      "Epoch 46/100\n",
      "857/857 [==============================] - 0s 425us/step - loss: 0.2478 - accuracy: 0.9102\n",
      "Epoch 47/100\n",
      "857/857 [==============================] - 0s 420us/step - loss: 0.2176 - accuracy: 0.9137\n",
      "Epoch 48/100\n",
      "857/857 [==============================] - 0s 419us/step - loss: 0.2059 - accuracy: 0.9102\n",
      "Epoch 49/100\n",
      "857/857 [==============================] - 0s 416us/step - loss: 0.2651 - accuracy: 0.9102\n",
      "Epoch 50/100\n",
      "857/857 [==============================] - 0s 412us/step - loss: 0.2844 - accuracy: 0.9055\n",
      "Epoch 51/100\n",
      "857/857 [==============================] - 0s 427us/step - loss: 0.2882 - accuracy: 0.9078\n",
      "Epoch 52/100\n",
      "857/857 [==============================] - 0s 424us/step - loss: 0.2780 - accuracy: 0.8973\n",
      "Epoch 53/100\n",
      "857/857 [==============================] - 0s 427us/step - loss: 0.2004 - accuracy: 0.9195\n",
      "Epoch 54/100\n",
      "857/857 [==============================] - 0s 455us/step - loss: 0.1962 - accuracy: 0.9288\n",
      "Epoch 55/100\n",
      "857/857 [==============================] - 0s 431us/step - loss: 0.1803 - accuracy: 0.9347\n",
      "Epoch 56/100\n",
      "857/857 [==============================] - 0s 435us/step - loss: 0.1964 - accuracy: 0.9230\n",
      "Epoch 57/100\n",
      "857/857 [==============================] - 0s 434us/step - loss: 0.2075 - accuracy: 0.9125\n",
      "Epoch 58/100\n",
      "857/857 [==============================] - 0s 421us/step - loss: 0.2217 - accuracy: 0.9417\n",
      "Epoch 59/100\n",
      "857/857 [==============================] - 1s 605us/step - loss: 0.1855 - accuracy: 0.9300\n",
      "Epoch 60/100\n",
      "857/857 [==============================] - 0s 525us/step - loss: 0.2566 - accuracy: 0.9195\n",
      "Epoch 61/100\n",
      "857/857 [==============================] - 0s 416us/step - loss: 0.4132 - accuracy: 0.8833\n",
      "Epoch 62/100\n",
      "857/857 [==============================] - 0s 450us/step - loss: 0.2924 - accuracy: 0.8985\n",
      "Epoch 63/100\n",
      "857/857 [==============================] - 0s 427us/step - loss: 0.1881 - accuracy: 0.9370\n",
      "Epoch 64/100\n",
      "857/857 [==============================] - 0s 421us/step - loss: 0.1723 - accuracy: 0.9382\n",
      "Epoch 65/100\n",
      "857/857 [==============================] - 0s 419us/step - loss: 0.2047 - accuracy: 0.9253\n",
      "Epoch 66/100\n",
      "857/857 [==============================] - 0s 446us/step - loss: 0.1987 - accuracy: 0.9335\n",
      "Epoch 67/100\n",
      "857/857 [==============================] - 0s 438us/step - loss: 0.2448 - accuracy: 0.9218\n",
      "Epoch 68/100\n",
      "857/857 [==============================] - 0s 422us/step - loss: 0.1763 - accuracy: 0.9253\n",
      "Epoch 69/100\n",
      "857/857 [==============================] - 0s 423us/step - loss: 0.2446 - accuracy: 0.9160\n",
      "Epoch 70/100\n",
      "857/857 [==============================] - 0s 426us/step - loss: 0.2314 - accuracy: 0.9312\n",
      "Epoch 71/100\n",
      "857/857 [==============================] - 0s 436us/step - loss: 0.3090 - accuracy: 0.9160\n",
      "Epoch 72/100\n",
      "857/857 [==============================] - 0s 547us/step - loss: 0.4155 - accuracy: 0.9008\n",
      "Epoch 73/100\n",
      "857/857 [==============================] - 0s 575us/step - loss: 0.2442 - accuracy: 0.9195\n",
      "Epoch 74/100\n",
      "857/857 [==============================] - 0s 517us/step - loss: 0.1799 - accuracy: 0.9347\n",
      "Epoch 75/100\n",
      "857/857 [==============================] - 0s 553us/step - loss: 0.1839 - accuracy: 0.9335\n",
      "Epoch 76/100\n",
      "857/857 [==============================] - 0s 443us/step - loss: 0.1836 - accuracy: 0.9382\n",
      "Epoch 77/100\n",
      "857/857 [==============================] - 0s 430us/step - loss: 0.1355 - accuracy: 0.9487\n",
      "Epoch 78/100\n",
      "857/857 [==============================] - 0s 437us/step - loss: 0.1273 - accuracy: 0.9545\n",
      "Epoch 79/100\n",
      "857/857 [==============================] - 0s 428us/step - loss: 0.1286 - accuracy: 0.9557\n",
      "Epoch 80/100\n",
      "857/857 [==============================] - 0s 465us/step - loss: 0.1301 - accuracy: 0.9498\n",
      "Epoch 81/100\n",
      "857/857 [==============================] - 0s 447us/step - loss: 0.1689 - accuracy: 0.9393\n",
      "Epoch 82/100\n",
      "857/857 [==============================] - 0s 526us/step - loss: 0.2913 - accuracy: 0.9055\n",
      "Epoch 83/100\n",
      "857/857 [==============================] - 0s 450us/step - loss: 0.1648 - accuracy: 0.9405\n",
      "Epoch 84/100\n",
      "857/857 [==============================] - 0s 477us/step - loss: 0.1430 - accuracy: 0.9475\n",
      "Epoch 85/100\n",
      "857/857 [==============================] - 0s 417us/step - loss: 0.2038 - accuracy: 0.9358\n",
      "Epoch 86/100\n",
      "857/857 [==============================] - 0s 414us/step - loss: 0.1578 - accuracy: 0.9370\n",
      "Epoch 87/100\n",
      "857/857 [==============================] - 0s 424us/step - loss: 0.1348 - accuracy: 0.9510\n",
      "Epoch 88/100\n",
      "857/857 [==============================] - 0s 422us/step - loss: 0.1230 - accuracy: 0.9592\n",
      "Epoch 89/100\n",
      "857/857 [==============================] - 0s 410us/step - loss: 0.1143 - accuracy: 0.9627\n",
      "Epoch 90/100\n",
      "857/857 [==============================] - 0s 419us/step - loss: 0.1150 - accuracy: 0.9627\n",
      "Epoch 91/100\n",
      "857/857 [==============================] - 0s 424us/step - loss: 0.1307 - accuracy: 0.9603\n",
      "Epoch 92/100\n",
      "857/857 [==============================] - 0s 518us/step - loss: 0.1095 - accuracy: 0.9603\n",
      "Epoch 93/100\n",
      "857/857 [==============================] - 0s 471us/step - loss: 0.1115 - accuracy: 0.9615\n",
      "Epoch 94/100\n",
      "857/857 [==============================] - 0s 549us/step - loss: 0.1177 - accuracy: 0.9580\n",
      "Epoch 95/100\n",
      "857/857 [==============================] - 0s 459us/step - loss: 0.3045 - accuracy: 0.9358\n",
      "Epoch 96/100\n",
      "857/857 [==============================] - 0s 483us/step - loss: 0.5087 - accuracy: 0.8833\n",
      "Epoch 97/100\n",
      "857/857 [==============================] - 0s 437us/step - loss: 0.2454 - accuracy: 0.9242\n",
      "Epoch 98/100\n",
      "857/857 [==============================] - 0s 421us/step - loss: 0.2003 - accuracy: 0.9335\n",
      "Epoch 99/100\n",
      "857/857 [==============================] - 0s 419us/step - loss: 0.2296 - accuracy: 0.9253\n",
      "Epoch 100/100\n",
      "857/857 [==============================] - 0s 496us/step - loss: 0.1925 - accuracy: 0.9300\n"
     ]
    },
    {
     "data": {
      "text/plain": [
       "<keras.callbacks.callbacks.History at 0x1a460a09e8>"
      ]
     },
     "execution_count": 423,
     "metadata": {},
     "output_type": "execute_result"
    }
   ],
   "source": [
    "NN_model = Sequential()\n",
    "NN_model.add(Dense(34, input_dim=68, activation='relu'))\n",
    "NN_model.add(Dense(34, activation='relu'))\n",
    "NN_model.add(Dense(1, activation='sigmoid'))\n",
    "NN_model.compile(loss='binary_crossentropy', optimizer='adam', metrics=['accuracy'])\n",
    "NN_model.fit(X_train, Y_train, epochs=100, batch_size=10)"
   ]
  },
  {
   "cell_type": "code",
   "execution_count": 424,
   "metadata": {},
   "outputs": [
    {
     "name": "stdout",
     "output_type": "stream",
     "text": [
      "286/286 [==============================] - 0s 707us/step\n",
      "Accuracy:  0.7937062978744507\n"
     ]
    }
   ],
   "source": [
    "scores=NN_model.evaluate(X_test, Y_test)\n",
    "print('Accuracy: ', scores[1])"
   ]
  },
  {
   "cell_type": "code",
   "execution_count": null,
   "metadata": {},
   "outputs": [],
   "source": []
  }
 ],
 "metadata": {
  "kernelspec": {
   "display_name": "Python 3",
   "language": "python",
   "name": "python3"
  },
  "language_info": {
   "codemirror_mode": {
    "name": "ipython",
    "version": 3
   },
   "file_extension": ".py",
   "mimetype": "text/x-python",
   "name": "python",
   "nbconvert_exporter": "python",
   "pygments_lexer": "ipython3",
   "version": "3.7.6"
  }
 },
 "nbformat": 4,
 "nbformat_minor": 2
}
